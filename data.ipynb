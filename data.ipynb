import cv2
import os
from google.colab.patches import cv2_imshow


# Set the path to the folder containing the images
path_to_images = "/content/gdrive/MyDrive/gt_db"

# path_to_sample_image = "/content/gdrive/MyDrive/gt_db/s01_Male/01.jpg"
# img = cv2.imread(path_to_sample_image, cv2.IMREAD_UNCHANGED)
# print(img.shape)
# cv2_imshow(img)


# Initialize two lists to hold the images and their labels
images = []
labels = []

# Loop through all the files in the folder
for folderName in os.listdir(path_to_images):
    print(folderName)
    sub_path = path_to_images+"/"+folderName
    for fileName in os.listdir(sub_path):
        if fileName.endswith("jpg"):
            # Load the image using OpenCV
            img = cv2.imread(os.path.join(sub_path, fileName))
            print(fileName)
            # cv2_imshow(img)
            # Convert the image to grayscale
            gray = cv2.cvtColor(img, cv2.COLOR_BGR2GRAY)
            # Resize the image to a fixed size (e.g. 100x100)
            resized = cv2.resize(gray, (100, 100))
            # Add the resized image to the list of images
            images.append(resized)
            # Parse the label from the folderName (assuming the folderName is in the format "number_gender.jpg")
            label = int(folderName.split("_")[1] == "Male")
            # Add the label to the list of labels
            labels.append(label)

